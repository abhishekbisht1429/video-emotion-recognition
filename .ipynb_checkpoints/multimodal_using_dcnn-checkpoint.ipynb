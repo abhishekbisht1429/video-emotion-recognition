{
 "cells": [
  {
   "cell_type": "code",
   "execution_count": null,
   "metadata": {},
   "outputs": [],
   "source": [
    "import librosa\n",
    "import librosa.display\n",
    "import numpy as np\n",
    "import utils.data_util as data_util\n",
    "import matplotlib.pyplot as plt\n",
    "from tensorflow.keras.applications import Xception\n",
    "from tensorflow.keras.layers import Dense, Flatten, Concatenate\n",
    "from tensorflow.keras import Model\n",
    "from sklearn.model_selection import train_test_split\n",
    "import tensorflow as tf\n",
    "from tensorflow.keras.models import load_model\n",
    "import tensorflow.keras as keras"
   ]
  },
  {
   "cell_type": "code",
   "execution_count": null,
   "metadata": {},
   "outputs": [],
   "source": [
    "gpus = tf.config.experimental.list_physical_devices('GPU')\n",
    "if gpus:\n",
    "  try:\n",
    "    # Currently, memory growth needs to be the same across GPUs\n",
    "    for gpu in gpus:\n",
    "        print(gpu)\n",
    "        tf.config.experimental.set_memory_growth(gpu, True)\n",
    "    logical_gpus = tf.config.experimental.list_logical_devices('GPU')\n",
    "    print(len(gpus), \"Physical GPUs,\", len(logical_gpus), \"Logical GPUs\")\n",
    "  except RuntimeError as e:\n",
    "    # Memory growth must be set before GPUs have been initialized\n",
    "    print(e)\n"
   ]
  },
  {
   "cell_type": "markdown",
   "metadata": {},
   "source": [
    "# Load Data"
   ]
  },
  {
   "cell_type": "code",
   "execution_count": null,
   "metadata": {},
   "outputs": [],
   "source": [
    "# X_orig_audio, Y_orig_audio = data_util.load_audio_data(preprocess = True)"
   ]
  },
  {
   "cell_type": "code",
   "execution_count": null,
   "metadata": {},
   "outputs": [],
   "source": [
    "# X_orig_face, Y_orig_face = data_util.load_facial_data(preprocess = True)"
   ]
  },
  {
   "cell_type": "code",
   "execution_count": null,
   "metadata": {},
   "outputs": [],
   "source": [
    "X_orig_audio, Y_orig_audio = data_util.load_audio_filenames()\n",
    "X_orig_face, Y_orig_face = data_util.load_facial_filenames()\n",
    "\n",
    "# X_orig_audio, Y_orig_audio = data_util.load_audio_data()\n",
    "# X_orig_face, Y_orig_face = data_util.load_facial_data()\n",
    "print(X_orig_audio.shape)\n",
    "print(X_orig_face.shape)"
   ]
  },
  {
   "cell_type": "markdown",
   "metadata": {},
   "source": [
    "# Split Data"
   ]
  },
  {
   "cell_type": "code",
   "execution_count": null,
   "metadata": {},
   "outputs": [],
   "source": [
    "# split data\n",
    "print(X_orig_face.shape)\n",
    "print(X_orig_audio.shape)\n",
    "\n",
    "#Sanity check of the loaded data\n",
    "for i in range(Y_orig_face.shape[0]):\n",
    "    for j in range(Y_orig_face.shape[1]):\n",
    "        if(not(Y_orig_face[i][j] == Y_orig_audio[i][j])):\n",
    "            print(\"invalid1\")\n",
    "            break\n",
    "\n",
    "# Split the data using train_test_split utility\n",
    "train_test_distribution = train_test_split(X_orig_face, Y_orig_face, X_orig_audio, Y_orig_audio,\n",
    "                                          test_size = 0.2, shuffle = True)\n",
    "X_train_face = train_test_distribution[0]\n",
    "X_test_face = train_test_distribution[1]\n",
    "Y_train_face = train_test_distribution[2]\n",
    "Y_test_face = train_test_distribution[3]\n",
    "\n",
    "X_train_audio = train_test_distribution[4]\n",
    "X_test_audio = train_test_distribution[5]\n",
    "Y_train_audio = train_test_distribution[6]\n",
    "Y_test_audio = train_test_distribution[7]\n",
    "\n",
    "#Sanity check after splitting\n",
    "for i in range(Y_test_face.shape[0]):\n",
    "    for j in range(Y_test_face.shape[1]):\n",
    "        if(not(Y_test_face[i][j] == Y_test_audio[i][j])):\n",
    "            print(\"invalid\")\n",
    "            break\n",
    "\n",
    "for i in range(Y_train_face.shape[0]):\n",
    "    for j in range(Y_train_face.shape[1]):\n",
    "        if(not(Y_train_face[i][j] == Y_train_audio[i][j])):\n",
    "            print(\"invalid\")\n",
    "            break\n",
    "\n",
    "#Y_train_face and Y_train_speech are equivalent\n",
    "# and Y_test_face and Y_test_speech are also equivalent\n",
    "Y_train = Y_train_face\n",
    "Y_test = Y_test_face"
   ]
  },
  {
   "cell_type": "code",
   "execution_count": null,
   "metadata": {},
   "outputs": [],
   "source": [
    "X_train_face_gen = data_util.DataGenerator(X_train_face, Y_train_face, 8)\n",
    "X_val_face_gen = data_util.DataGenerator(X_test_face, Y_test_face, 8)"
   ]
  },
  {
   "cell_type": "code",
   "execution_count": null,
   "metadata": {},
   "outputs": [],
   "source": [
    "# librosa.display.specshow(X_orig_audio[0,:,:,0])\n",
    "# fig = plt.figure(frameon=False)\n",
    "# ax = plt.Axes(fig, [0., 0., 1., 1.])\n",
    "# ax.set_axis_off()\n",
    "# fig.add_axes(ax)\n",
    "\n",
    "# ax.pcolormesh(X_orig_audio[0,:,:,0])\n",
    "# fig.savefig('./temp/fig.jpg', dpi = 320, optimize = True)"
   ]
  },
  {
   "cell_type": "markdown",
   "metadata": {},
   "source": [
    "## Use VGG16 for training facial data"
   ]
  },
  {
   "cell_type": "code",
   "execution_count": null,
   "metadata": {},
   "outputs": [],
   "source": [
    "model = Xception()"
   ]
  },
  {
   "cell_type": "code",
   "execution_count": null,
   "metadata": {},
   "outputs": [],
   "source": [
    "output_layer = Dense(8, activation = 'softmax', name = 'fc3')(model.layers[-2].output)\n",
    "model = Model(model.input, output_layer)\n",
    "model.compile(optimizer = 'rmsprop', loss = 'categorical_crossentropy', metrics = ['categorical_accuracy'])\n",
    "model.summary()"
   ]
  },
  {
   "cell_type": "markdown",
   "metadata": {},
   "source": []
  },
  {
   "cell_type": "code",
   "execution_count": null,
   "metadata": {
    "scrolled": false
   },
   "outputs": [],
   "source": [
    "history = model.fit(X_train_face_gen, epochs = 200)\n",
    "# history = model.fit(X_train_face, Y_train_face, validation_data = [X_test_face, Y_test_face], batch_size = 8, epochs = 20)"
   ]
  },
  {
   "cell_type": "code",
   "execution_count": null,
   "metadata": {},
   "outputs": [],
   "source": [
    "# model.save('./temp/xception_trained_face.h5')"
   ]
  },
  {
   "cell_type": "code",
   "execution_count": null,
   "metadata": {},
   "outputs": [],
   "source": [
    "# plt.plot(history.history['accuracy'])"
   ]
  },
  {
   "cell_type": "code",
   "execution_count": null,
   "metadata": {},
   "outputs": [],
   "source": [
    "model = load_model('./temp/xception_trained_face.h5')"
   ]
  },
  {
   "cell_type": "code",
   "execution_count": null,
   "metadata": {},
   "outputs": [],
   "source": [
    "model.evaluate(X_test_face, Y_test_face, batch_size = 8)"
   ]
  },
  {
   "cell_type": "markdown",
   "metadata": {},
   "source": [
    "## Use VGG16 for audio data"
   ]
  },
  {
   "cell_type": "code",
   "execution_count": null,
   "metadata": {},
   "outputs": [],
   "source": [
    "model_audio = Xception()"
   ]
  },
  {
   "cell_type": "code",
   "execution_count": null,
   "metadata": {},
   "outputs": [],
   "source": [
    "output_layer = Dense(8, activation = 'softmax', name = 'f3')(model_audio.layers[-2].output)\n",
    "model_audio = Model(model_audio.input, output_layer)\n",
    "model_audio.compile(optimizer = 'rmsprop', loss = 'categorical_crossentropy', metrics = ['categorical_accuracy'])"
   ]
  },
  {
   "cell_type": "code",
   "execution_count": null,
   "metadata": {},
   "outputs": [],
   "source": [
    "history = model_audio.fit(X_train_audio, Y_train_audio, validation_data = [X_test_audio, Y_test_audio], batch_size = 16, epochs = 500)"
   ]
  },
  {
   "cell_type": "code",
   "execution_count": null,
   "metadata": {},
   "outputs": [],
   "source": [
    "print(history)"
   ]
  },
  {
   "cell_type": "code",
   "execution_count": null,
   "metadata": {},
   "outputs": [],
   "source": [
    "plt.plot(history.history['loss'])"
   ]
  },
  {
   "cell_type": "code",
   "execution_count": null,
   "metadata": {},
   "outputs": [],
   "source": [
    "plt.plot(history.history['categorical_accuracy'])"
   ]
  },
  {
   "cell_type": "code",
   "execution_count": null,
   "metadata": {},
   "outputs": [],
   "source": [
    "model_audio.evaluate(X_test_audio, Y_test_audio)"
   ]
  },
  {
   "cell_type": "code",
   "execution_count": null,
   "metadata": {},
   "outputs": [],
   "source": [
    "model_audio.save('./temp/audio_model.h5')"
   ]
  },
  {
   "cell_type": "code",
   "execution_count": null,
   "metadata": {},
   "outputs": [],
   "source": [
    "np.save('audio_history.npy',history.history)"
   ]
  },
  {
   "cell_type": "code",
   "execution_count": null,
   "metadata": {},
   "outputs": [],
   "source": [
    "# model = Model(input_layer, layer)\n",
    "# model.compile(optimizer = 'rmsprop', loss = 'categorical_crossentropy', metrics = ['categorical_accuracy'])\n",
    "# model.summary()"
   ]
  },
  {
   "cell_type": "code",
   "execution_count": null,
   "metadata": {},
   "outputs": [],
   "source": []
  },
  {
   "cell_type": "code",
   "execution_count": null,
   "metadata": {},
   "outputs": [],
   "source": [
    "model_face = Xception()\n",
    "for layer in model_face.layers:\n",
    "    layer._name = layer.name + '_face'\n",
    "output_layer_face = (model_face.layers[-2].output)\n",
    "\n",
    "model_audio = Xception()\n",
    "for layer in model_audio.layers:\n",
    "    layer._name = layer.name + '_audio'\n",
    "output_layer_audio = (model_audio.layers[-2].output)\n",
    "\n",
    "layer = Concatenate()([output_layer_face, output_layer_audio])\n",
    "layer = Dense(2048)(layer)\n",
    "layer = Dense(8, activation = 'softmax')(layer)\n",
    "model = Model([model_face.input, model_audio.input], layer)\n",
    "model.compile(optimizer = 'rmsprop', loss = 'categorical_crossentropy', metrics = ['categorical_accuracy'])\n"
   ]
  },
  {
   "cell_type": "code",
   "execution_count": null,
   "metadata": {},
   "outputs": [],
   "source": [
    "model.summary()"
   ]
  },
  {
   "cell_type": "code",
   "execution_count": null,
   "metadata": {},
   "outputs": [],
   "source": [
    "# with tf.device('/CPU:0'):\n",
    "history = model.fit(X_train_face_gen, epochs = 500)"
   ]
  },
  {
   "cell_type": "code",
   "execution_count": null,
   "metadata": {},
   "outputs": [],
   "source": []
  }
 ],
 "metadata": {
  "kernelspec": {
   "display_name": "Python 3",
   "language": "python",
   "name": "python3"
  },
  "language_info": {
   "codemirror_mode": {
    "name": "ipython",
    "version": 3
   },
   "file_extension": ".py",
   "mimetype": "text/x-python",
   "name": "python",
   "nbconvert_exporter": "python",
   "pygments_lexer": "ipython3",
   "version": "3.6.9"
  }
 },
 "nbformat": 4,
 "nbformat_minor": 4
}

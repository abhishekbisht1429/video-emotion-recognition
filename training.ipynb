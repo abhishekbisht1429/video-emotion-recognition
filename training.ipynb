{
  "cells": [
    {
      "cell_type": "code",
      "metadata": {
        "id": "XFecgftX_oUh",
        "colab_type": "code",
        "colab": {}
      },
      "source": [
        "import os\n",
        "hostname = os.popen(\"hostname\").read().split(\"\\n\")[0]\n",
        "if(hostname != \"reckoner1429-Predator-PH315-52\"):\n",
        "    from google.colab import drive\n",
        "    from google.colab import drive\n",
        "    drive.mount('/content/gdrive')\n",
        "    import sys\n",
        "    sys.path.append('/content/gdrive/My Drive/video-emotion-recognition')\n",
        "    print(sys.path)\n",
        "\n",
        "    if(not os.path.exists(\"/content/gdrive/My Drive/ssh\")):\n",
        "      os.mkdir(\"/content/gdrive/My Drive/ssh\")\n",
        "      ! ssh-keygen -t rsa -b 4096 -C “abhishekbisht1429@github.com” -f \"/content/gdrive/My Drive/ssh/id_rsa\"\n",
        "      ! ssh-keyscan github.com >> \"/content/gdrive/My Drive/ssh/known_hosts\"\n",
        "    \n",
        "    if(not os.path.exists(\"/root/.ssh/\")):\n",
        "      os.mkdir(\"/root/.ssh/\")\n",
        "    ! cp \"/content/gdrive/My Drive/ssh/known_hosts\" \"/root/.ssh/known_hosts\"\n",
        "    ! cp \"/content/gdrive/My Drive/ssh/id_rsa\" \"/root/.ssh/id_rsa\"\n",
        "    ! cp \"/content/gdrive/My Drive/ssh/id_rsa.pub\" \"/root/.ssh/id_rsa.pub\"\n",
        "    \n",
        "    ! ls \"/root/.ssh\"\n",
        "    ! cat \"/root/.ssh/id_rsa.pub\"\n",
        "    ! chmod 644 \"/root/.ssh/known_hosts\"\n",
        "    ! chmod 600 \"/root/.ssh/id_rsa\"\n",
        "    \n",
        "    ! ssh -T git@github.com\n",
        "    \n",
        "    ! pwd\n",
        "    \n",
        "    if(not os.path.exists(\"/content/gdrive/My Drive/github/video-emotion-recognition\")):\n",
        "        ! git clone \"git@github.com:abhishekbisht1429/video-emotion-recognition.git\" \"gdrive/My Drive/github/video-emotion-recognition\"\n",
        "    \n",
        "    %cd \"/content/gdrive/My Drive/github/video-emotion-recognition\"\n",
        "    ! pwd\n",
        "    ! git pull origin master\n",
        "    ! git status\n",
        "    ! git config --global user.email \"abhishekbisht1429@gmail.com\"\n",
        "    ! git config --global user.name \"abhishekbisht1429\""
      ],
      "execution_count": 20,
      "outputs": []
    },
    {
      "cell_type": "code",
      "metadata": {
        "id": "7w02JP9lRWhc",
        "colab_type": "code",
        "tags": [],
        "colab": {}
      },
      "source": [
        "import librosa\n",
        "import librosa.display\n",
        "import numpy as np\n",
        "import utils.data_util as data_util\n",
        "import matplotlib.pyplot as plt\n",
        "from tensorflow.keras.applications import Xception, VGG16, ResNet50, ResNet101, ResNet152, ResNet50V2, ResNet101V2, ResNet152V2, InceptionV3, InceptionResNetV2, MobileNet, MobileNetV2\n",
        "from tensorflow.keras.layers import Dense, Flatten, Concatenate\n",
        "from tensorflow.keras import Model\n",
        "from sklearn.model_selection import train_test_split\n",
        "import tensorflow as tf\n",
        "from tensorflow.keras.models import load_model\n",
        "import tensorflow.keras as keras\n",
        "import time\n",
        "import utils.local_config as local_config\n",
        "from utils.hyparam_config import HyperparamConfig3 as HyParamCfg"
      ],
      "execution_count": 21,
      "outputs": []
    },
    {
      "cell_type": "code",
      "metadata": {
        "id": "lFEPG4AK-Fjt",
        "colab_type": "code",
        "tags": [],
        "colab": {}
      },
      "source": [
        "gpus = tf.config.experimental.list_physical_devices('GPU')\n",
        "if gpus:\n",
        "  try:\n",
        "    # Currently, memory growth needs to be the same across GPUs\n",
        "    for gpu in gpus:\n",
        "        print(gpu)\n",
        "        tf.config.experimental.set_memory_growth(gpu, True)\n",
        "    logical_gpus = tf.config.experimental.list_logical_devices('GPU')\n",
        "    print(len(gpus), \"Physical GPUs,\", len(logical_gpus), \"Logical GPUs\")\n",
        "  except RuntimeError as e:\n",
        "    # Memory growth must be set before GPUs have been initialized\n",
        "    print(e)"
      ],
      "execution_count": 22,
      "outputs": [
        {
          "output_type": "stream",
          "name": "stdout",
          "text": "PhysicalDevice(name='/physical_device:GPU:0', device_type='GPU')\n1 Physical GPUs, 1 Logical GPUs\n"
        }
      ]
    },
    {
      "cell_type": "markdown",
      "metadata": {
        "id": "oa66Rqg9-Fj9",
        "colab_type": "text"
      },
      "source": [
        "# Load Data"
      ]
    },
    {
      "cell_type": "markdown",
      "metadata": {
        "id": "IYd_O-SW-Fj_",
        "colab_type": "text"
      },
      "source": [
        "## Load file names"
      ]
    },
    {
      "cell_type": "code",
      "metadata": {
        "id": "PajvFqrk-FkA",
        "colab_type": "code",
        "tags": [],
        "colab": {}
      },
      "source": [
        "X_orig_audio, Y_orig_audio = data_util.load_audio_filenames()\n",
        "X_orig_face, Y_orig_face = data_util.load_facial_filenames()\n",
        "\n",
        "print(X_orig_audio.shape)\n",
        "print(X_orig_face.shape)"
      ],
      "execution_count": 23,
      "outputs": [
        {
          "output_type": "stream",
          "name": "stdout",
          "text": "hello\n/home/reckoner1429/Documents/projects/video-emotion-recognition/data/RAVDESS/Audio_preprocessing_output\n/home/reckoner1429/Documents/projects/video-emotion-recognition/data/RAVDESS/Video_preprocessing_output\n(1440,)\n(1440,)\n"
        }
      ]
    },
    {
      "cell_type": "markdown",
      "metadata": {
        "id": "FMyp89A3-FkO",
        "colab_type": "text"
      },
      "source": [
        "## Split Data"
      ]
    },
    {
      "cell_type": "code",
      "metadata": {
        "id": "xcp_58Io-FkP",
        "colab_type": "code",
        "tags": [],
        "colab": {}
      },
      "source": [
        "# split data\n",
        "print(X_orig_face.shape)\n",
        "print(X_orig_audio.shape)\n",
        "\n",
        "SEED = 0\n",
        "#Sanity check of the loaded data\n",
        "for i in range(Y_orig_face.shape[0]):\n",
        "    for j in range(Y_orig_face.shape[1]):\n",
        "        if(not(Y_orig_face[i][j] == Y_orig_audio[i][j])):\n",
        "            print(\"invalid1\")\n",
        "            break\n",
        "\n",
        "# Split the data using train_test_split utility\n",
        "train_test_distribution = train_test_split(X_orig_face, Y_orig_face, X_orig_audio, Y_orig_audio,\n",
        "                                          test_size = 0.2, shuffle = True, random_state = SEED)\n",
        "X_train_face = train_test_distribution[0]\n",
        "X_test_face = train_test_distribution[1]\n",
        "Y_train_face = train_test_distribution[2]\n",
        "Y_test_face = train_test_distribution[3]\n",
        "\n",
        "X_train_audio = train_test_distribution[4]\n",
        "X_test_audio = train_test_distribution[5]\n",
        "Y_train_audio = train_test_distribution[6]\n",
        "Y_test_audio = train_test_distribution[7]\n",
        "\n",
        "#Sanity check after splitting\n",
        "for i in range(Y_test_face.shape[0]):\n",
        "    for j in range(Y_test_face.shape[1]):\n",
        "        if(not(Y_test_face[i][j] == Y_test_audio[i][j])):\n",
        "            print(\"invalid\")\n",
        "            break\n",
        "\n",
        "for i in range(Y_train_face.shape[0]):\n",
        "    for j in range(Y_train_face.shape[1]):\n",
        "        if(not(Y_train_face[i][j] == Y_train_audio[i][j])):\n",
        "            print(\"invalid\")\n",
        "            break\n",
        "\n",
        "#Y_train_face and Y_train_speech are equivalent\n",
        "# and Y_test_face and Y_test_speech are also equivalent\n",
        "Y_train = Y_train_face\n",
        "Y_test = Y_test_face\n",
        "print(X_train_face)"
      ],
      "execution_count": 24,
      "outputs": [
        {
          "output_type": "stream",
          "name": "stdout",
          "text": "(1440,)\n(1440,)\n['/home/reckoner1429/Documents/projects/video-emotion-recognition/data/RAVDESS/Video_preprocessing_output/Actor_22/subtracted_frames/01-01-05-02-01-01-22.jpg'\n '/home/reckoner1429/Documents/projects/video-emotion-recognition/data/RAVDESS/Video_preprocessing_output/Actor_22/subtracted_frames/01-01-01-01-02-01-22.jpg'\n '/home/reckoner1429/Documents/projects/video-emotion-recognition/data/RAVDESS/Video_preprocessing_output/Actor_17/subtracted_frames/01-01-05-01-02-01-17.jpg'\n ...\n '/home/reckoner1429/Documents/projects/video-emotion-recognition/data/RAVDESS/Video_preprocessing_output/Actor_07/subtracted_frames/01-01-03-02-01-01-07.jpg'\n '/home/reckoner1429/Documents/projects/video-emotion-recognition/data/RAVDESS/Video_preprocessing_output/Actor_09/subtracted_frames/01-01-03-02-02-02-09.jpg'\n '/home/reckoner1429/Documents/projects/video-emotion-recognition/data/RAVDESS/Video_preprocessing_output/Actor_11/subtracted_frames/01-01-04-02-01-01-11.jpg']\n"
        }
      ]
    },
    {
      "cell_type": "markdown",
      "metadata": {
        "id": "maxGAy-d-FkV",
        "colab_type": "text"
      },
      "source": [
        "## Define some parameters"
      ]
    },
    {
      "cell_type": "code",
      "metadata": {
        "id": "huP6RFSL-FkW",
        "colab_type": "code",
        "colab": {}
      },
      "source": [
        "INPUT_WIDTH = 224\n",
        "INPUT_HEIGHT = 224\n",
        "BATCH_SIZE = 8\n",
        "epochs = 1\n",
        "ITERATION = HyParamCfg['iteration']"
      ],
      "execution_count": 25,
      "outputs": []
    },
    {
      "cell_type": "markdown",
      "metadata": {
        "id": "vX6crwPf-Fkc",
        "colab_type": "text"
      },
      "source": [
        "## Create the generators using filenames and labels"
      ]
    },
    {
      "cell_type": "code",
      "metadata": {
        "id": "p0qAlXHR-Fkd",
        "colab_type": "code",
        "colab": {}
      },
      "source": [
        "X_train_face_gen = data_util.FaceDataGenerator(X_train_face, Y_train_face, BATCH_SIZE, INPUT_WIDTH, INPUT_HEIGHT)\n",
        "X_val_face_gen = data_util.FaceDataGenerator(X_test_face, Y_test_face, BATCH_SIZE, INPUT_WIDTH, INPUT_HEIGHT)"
      ],
      "execution_count": 26,
      "outputs": []
    },
    {
      "cell_type": "code",
      "metadata": {
        "id": "9dw7ga5t-Fkh",
        "colab_type": "code",
        "colab": {}
      },
      "source": [
        "X_train_audio_gen = data_util.AudioDataGenerator(X_train_audio, Y_train_audio, BATCH_SIZE, INPUT_WIDTH, INPUT_WIDTH)\n",
        "X_val_audio_gen = data_util.AudioDataGenerator(X_test_audio, Y_test_audio, BATCH_SIZE, INPUT_WIDTH, INPUT_HEIGHT)"
      ],
      "execution_count": 27,
      "outputs": []
    },
    {
      "cell_type": "code",
      "metadata": {
        "id": "k8L20Q_G-Fkk",
        "colab_type": "code",
        "colab": {}
      },
      "source": [
        "X_train_gen = data_util.MultimodalDataGenerator(X_train_face, X_train_audio, Y_train_face, BATCH_SIZE, INPUT_WIDTH, INPUT_HEIGHT)\n",
        "X_val_gen = data_util.MultimodalDataGenerator(X_test_face, X_test_audio, Y_test_face, BATCH_SIZE, INPUT_WIDTH, INPUT_HEIGHT)"
      ],
      "execution_count": 28,
      "outputs": []
    },
    {
      "cell_type": "markdown",
      "metadata": {
        "id": "Zl-QUgPl-Fkp",
        "colab_type": "text"
      },
      "source": [
        "# Define Functions for Training"
      ]
    },
    {
      "cell_type": "markdown",
      "metadata": {
        "id": "_yMlUk_F-Fkp",
        "colab_type": "text"
      },
      "source": [
        "## Define function to pretrain the model"
      ]
    },
    {
      "cell_type": "code",
      "metadata": {
        "tags": [],
        "id": "-immrnsk-Fkr",
        "colab_type": "code",
        "colab": {}
      },
      "source": [
        "def pretrain(model, train_data_gen, val_data_gen, epochs, network):\n",
        "    output_layer = Dense(8, activation = 'softmax')(model.layers[-2].output)\n",
        "    model = Model(model.input, output_layer, name = 'ftm-' + model.name + '-' + network + '-' + str(BATCH_SIZE))\n",
        "    model.compile(optimizer = HyParamCfg['optimizer'], loss = 'categorical_crossentropy', metrics = ['categorical_accuracy'])\n",
        "    \n",
        "    model_save_dir_path = local_config.BASE_DIR + '/' + 'temp/ftm-' + str(SEED)+ '/' + 'saved_models' \n",
        "    model_save_path = model_save_dir_path + '/' + model.name + '.h5'   \n",
        "\n",
        "    if(not os.path.exists(model_save_path)):\n",
        "        history = model.fit(train_data_gen, validation_data = val_data_gen, epochs = epochs, verbose = 2)\n",
        "\n",
        "        plt.plot(history.history['categorical_accuracy'])\n",
        "\n",
        "        if(not os.path.exists(model_save_dir_path)):\n",
        "            os.makedirs(model_save_dir_path)\n",
        "        model.save(model_save_path)\n",
        "\n",
        "        model_history_path = local_config.BASE_DIR + '/' + 'temp/ftm-' + str(SEED)+ '/' + 'history'\n",
        "        if(not os.path.exists(model_history_path)):\n",
        "            os.makedirs(model_history_path)\n",
        "        np.save(model_history_path + '/' + model.name + '-history.npy',history.history)\n",
        "    \n",
        "        model.evaluate(val_data_gen)"
      ],
      "execution_count": 45,
      "outputs": []
    },
    {
      "cell_type": "markdown",
      "metadata": {
        "id": "3z_1Xt0w-Fku",
        "colab_type": "text"
      },
      "source": [
        "## Define the function for tranining fusion network"
      ]
    },
    {
      "cell_type": "code",
      "metadata": {
        "id": "psKqHB08-Fkv",
        "colab_type": "code",
        "colab": {}
      },
      "source": [
        "def train_fusion_network(ptrn_model_name, ptrn_face_batch_size, ptrn_audio_batch_size, X_train_gen, X_val_gen, epochs):\n",
        "    model_face = keras.models.load_model(os.path.join(local_config.BASE_DIR, 'temp/ftm-' + str(SEED), 'saved_models/ftm-' + ptrn_model_name + '-face-' + str(ptrn_face_batch_size) + '.h5'))\n",
        "    for layer in model_face.layers:\n",
        "        layer._name = layer.name + '-face'\n",
        "        layer.trainable = False\n",
        "        output_layer_face = (model_face.layers[-2].output)\n",
        "    \n",
        "    model_audio = keras.models.load_model(os.path.join(local_config.BASE_DIR, 'temp/ftm-' + str(SEED), 'saved_models/ftm-' + ptrn_model_name + '-audio-' + str(ptrn_face_batch_size) + '.h5'))\n",
        "    for layer in model_audio.layers:\n",
        "        layer._name = layer.name + '-audio'\n",
        "        layer.trainable = False\n",
        "    output_layer_audio = (model_audio.layers[-2].output)\n",
        "\n",
        "    # Construct the fusion network\n",
        "    layer = Concatenate()([output_layer_face, output_layer_audio])\n",
        "\n",
        "    layer = Dense(2048, activation=HyParamCfg['layer1_activation'], kernel_initializer = HyParamCfg['layer1_kernel_intializer'], kernel_regularizer = HyParamCfg['layer1_kernel_regularizer'], activity_regularizer = HyParamCfg['layer1_activity_regulazier'])(layer)\n",
        "\n",
        "    layer = HyParamCfg['layer1_dropout'](layer)\n",
        "\n",
        "    layer = Dense(8, activation = 'softmax')(layer)\n",
        "\n",
        "    model = Model([model_face.input, model_audio.input], layer, name = ptrn_model_name + '-' + str(ptrn_face_batch_size) + '-' + str(ptrn_audio_batch_size) + '-' + str(BATCH_SIZE) + '-' + str(ITERATION))\n",
        "\n",
        "    # Compile the fusion network model\n",
        "    model.compile(optimizer = HyParamCfg['optimizer'], loss = 'categorical_crossentropy', metrics = ['categorical_accuracy'])\n",
        "\n",
        "    history = model.fit(X_train_gen, validation_data = X_val_gen, epochs=epochs, verbose = 2)\n",
        "\n",
        "    model_save_dir_path = os.path.join(local_config.BASE_DIR, 'temp','iteration-' + str(ITERATION), 'saved_models')\n",
        "    if(not os.path.exists(model_save_dir_path)):\n",
        "        os.makedirs(model_save_dir_path)\n",
        "    model.save(os.path.join(model_save_dir_path, model.name + '.h5'))\n",
        "\n",
        "    model_history_path = os.path.join(local_config.BASE_DIR, 'temp', 'iteration-' + str(ITERATION), 'history')\n",
        "    if(not os.path.exists(model_history_path)):\n",
        "        os.makedirs(model_history_path)\n",
        "    np.save(os.path.join(model_history_path, model.name + '-history.npy'),history.history)\n",
        "\n",
        "    plt.plot(history.history['loss'])\n",
        "    plt.plot(history.history['categorical_accuracy'])\n",
        "\n",
        "    model.evaluate(X_val_gen)"
      ],
      "execution_count": 52,
      "outputs": []
    },
    {
      "cell_type": "markdown",
      "metadata": {
        "id": "VK5LRzP_-Fkz",
        "colab_type": "text"
      },
      "source": [
        "# Train the Networks"
      ]
    },
    {
      "cell_type": "markdown",
      "metadata": {
        "id": "IpXejkbw-Fk9",
        "colab_type": "text"
      },
      "source": [
        "### Train the fusion Network"
      ]
    },
    {
      "cell_type": "code",
      "metadata": {
        "id": "_PctNNs_-i_M",
        "colab_type": "code",
        "colab": {}
      },
      "source": [
        "ptrn_face_batch_size = BATCH_SIZE\n",
        "ptrn_audio_batch_size = BATCH_SIZE\n",
        "\n",
        "def train(base_model):\n",
        "  print('training using ' + base_model.name)\n",
        "  pretrain(base_model, X_train_face_gen, X_val_face_gen, epochs, 'face')\n",
        "  print(\"face fine tuned\")\n",
        "  pretrain(base_model, X_train_audio_gen, X_val_audio_gen, epochs, 'audio')\n",
        "  print(\"audio fine tuned\")\n",
        "  train_fusion_network(base_model.name, ptrn_face_batch_size, ptrn_audio_batch_size, X_train_gen, X_val_gen, epochs)"
      ],
      "execution_count": 55,
      "outputs": []
    },
    {
      "cell_type": "code",
      "metadata": {
        "id": "5Ls7aGsQMEYx",
        "colab_type": "code",
        "tags": [],
        "colab": {}
      },
      "source": [
        "train(tf.keras.applications.Xception())"
      ],
      "execution_count": 56,
      "outputs": [
        {
          "output_type": "stream",
          "name": "stdout",
          "text": "training using xception\nface fine tuned\naudio fine tuned\n144/144 - 20s - loss: 2.0532 - categorical_accuracy: 0.1562 - val_loss: 2.0607 - val_categorical_accuracy: 0.1771\n36/36 [==============================] - 3s 81ms/step - loss: 2.0607 - categorical_accuracy: 0.1771\n"
        },
        {
          "output_type": "display_data",
          "data": {
            "text/plain": "<Figure size 432x288 with 1 Axes>",
            "image/svg+xml": "<?xml version=\"1.0\" encoding=\"utf-8\" standalone=\"no\"?>\n<!DOCTYPE svg PUBLIC \"-//W3C//DTD SVG 1.1//EN\"\n  \"http://www.w3.org/Graphics/SVG/1.1/DTD/svg11.dtd\">\n<!-- Created with matplotlib (https://matplotlib.org/) -->\n<svg height=\"248.518125pt\" version=\"1.1\" viewBox=\"0 0 378.465625 248.518125\" width=\"378.465625pt\" xmlns=\"http://www.w3.org/2000/svg\" xmlns:xlink=\"http://www.w3.org/1999/xlink\">\n <defs>\n  <style type=\"text/css\">\n*{stroke-linecap:butt;stroke-linejoin:round;}\n  </style>\n </defs>\n <g id=\"figure_1\">\n  <g id=\"patch_1\">\n   <path d=\"M 0 248.518125 \nL 378.465625 248.518125 \nL 378.465625 0 \nL 0 0 \nz\n\" style=\"fill:none;\"/>\n  </g>\n  <g id=\"axes_1\">\n   <g id=\"patch_2\">\n    <path d=\"M 36.465625 224.64 \nL 371.265625 224.64 \nL 371.265625 7.2 \nL 36.465625 7.2 \nz\n\" style=\"fill:#ffffff;\"/>\n   </g>\n   <g id=\"matplotlib.axis_1\">\n    <g id=\"xtick_1\">\n     <g id=\"line2d_1\">\n      <defs>\n       <path d=\"M 0 0 \nL 0 3.5 \n\" id=\"m9aa33ecf87\" style=\"stroke:#000000;stroke-width:0.8;\"/>\n      </defs>\n      <g>\n       <use style=\"stroke:#000000;stroke-width:0.8;\" x=\"82.12017\" xlink:href=\"#m9aa33ecf87\" y=\"224.64\"/>\n      </g>\n     </g>\n     <g id=\"text_1\">\n      <!-- −0.04 -->\n      <defs>\n       <path d=\"M 10.59375 35.5 \nL 73.1875 35.5 \nL 73.1875 27.203125 \nL 10.59375 27.203125 \nz\n\" id=\"DejaVuSans-8722\"/>\n       <path d=\"M 31.78125 66.40625 \nQ 24.171875 66.40625 20.328125 58.90625 \nQ 16.5 51.421875 16.5 36.375 \nQ 16.5 21.390625 20.328125 13.890625 \nQ 24.171875 6.390625 31.78125 6.390625 \nQ 39.453125 6.390625 43.28125 13.890625 \nQ 47.125 21.390625 47.125 36.375 \nQ 47.125 51.421875 43.28125 58.90625 \nQ 39.453125 66.40625 31.78125 66.40625 \nz\nM 31.78125 74.21875 \nQ 44.046875 74.21875 50.515625 64.515625 \nQ 56.984375 54.828125 56.984375 36.375 \nQ 56.984375 17.96875 50.515625 8.265625 \nQ 44.046875 -1.421875 31.78125 -1.421875 \nQ 19.53125 -1.421875 13.0625 8.265625 \nQ 6.59375 17.96875 6.59375 36.375 \nQ 6.59375 54.828125 13.0625 64.515625 \nQ 19.53125 74.21875 31.78125 74.21875 \nz\n\" id=\"DejaVuSans-48\"/>\n       <path d=\"M 10.6875 12.40625 \nL 21 12.40625 \nL 21 0 \nL 10.6875 0 \nz\n\" id=\"DejaVuSans-46\"/>\n       <path d=\"M 37.796875 64.3125 \nL 12.890625 25.390625 \nL 37.796875 25.390625 \nz\nM 35.203125 72.90625 \nL 47.609375 72.90625 \nL 47.609375 25.390625 \nL 58.015625 25.390625 \nL 58.015625 17.1875 \nL 47.609375 17.1875 \nL 47.609375 0 \nL 37.796875 0 \nL 37.796875 17.1875 \nL 4.890625 17.1875 \nL 4.890625 26.703125 \nz\n\" id=\"DejaVuSans-52\"/>\n      </defs>\n      <g transform=\"translate(66.797514 239.238437)scale(0.1 -0.1)\">\n       <use xlink:href=\"#DejaVuSans-8722\"/>\n       <use x=\"83.789062\" xlink:href=\"#DejaVuSans-48\"/>\n       <use x=\"147.412109\" xlink:href=\"#DejaVuSans-46\"/>\n       <use x=\"179.199219\" xlink:href=\"#DejaVuSans-48\"/>\n       <use x=\"242.822266\" xlink:href=\"#DejaVuSans-52\"/>\n      </g>\n     </g>\n    </g>\n    <g id=\"xtick_2\">\n     <g id=\"line2d_2\">\n      <g>\n       <use style=\"stroke:#000000;stroke-width:0.8;\" x=\"142.992898\" xlink:href=\"#m9aa33ecf87\" y=\"224.64\"/>\n      </g>\n     </g>\n     <g id=\"text_2\">\n      <!-- −0.02 -->\n      <defs>\n       <path d=\"M 19.1875 8.296875 \nL 53.609375 8.296875 \nL 53.609375 0 \nL 7.328125 0 \nL 7.328125 8.296875 \nQ 12.9375 14.109375 22.625 23.890625 \nQ 32.328125 33.6875 34.8125 36.53125 \nQ 39.546875 41.84375 41.421875 45.53125 \nQ 43.3125 49.21875 43.3125 52.78125 \nQ 43.3125 58.59375 39.234375 62.25 \nQ 35.15625 65.921875 28.609375 65.921875 \nQ 23.96875 65.921875 18.8125 64.3125 \nQ 13.671875 62.703125 7.8125 59.421875 \nL 7.8125 69.390625 \nQ 13.765625 71.78125 18.9375 73 \nQ 24.125 74.21875 28.421875 74.21875 \nQ 39.75 74.21875 46.484375 68.546875 \nQ 53.21875 62.890625 53.21875 53.421875 \nQ 53.21875 48.921875 51.53125 44.890625 \nQ 49.859375 40.875 45.40625 35.40625 \nQ 44.1875 33.984375 37.640625 27.21875 \nQ 31.109375 20.453125 19.1875 8.296875 \nz\n\" id=\"DejaVuSans-50\"/>\n      </defs>\n      <g transform=\"translate(127.670241 239.238437)scale(0.1 -0.1)\">\n       <use xlink:href=\"#DejaVuSans-8722\"/>\n       <use x=\"83.789062\" xlink:href=\"#DejaVuSans-48\"/>\n       <use x=\"147.412109\" xlink:href=\"#DejaVuSans-46\"/>\n       <use x=\"179.199219\" xlink:href=\"#DejaVuSans-48\"/>\n       <use x=\"242.822266\" xlink:href=\"#DejaVuSans-50\"/>\n      </g>\n     </g>\n    </g>\n    <g id=\"xtick_3\">\n     <g id=\"line2d_3\">\n      <g>\n       <use style=\"stroke:#000000;stroke-width:0.8;\" x=\"203.865625\" xlink:href=\"#m9aa33ecf87\" y=\"224.64\"/>\n      </g>\n     </g>\n     <g id=\"text_3\">\n      <!-- 0.00 -->\n      <g transform=\"translate(192.732813 239.238437)scale(0.1 -0.1)\">\n       <use xlink:href=\"#DejaVuSans-48\"/>\n       <use x=\"63.623047\" xlink:href=\"#DejaVuSans-46\"/>\n       <use x=\"95.410156\" xlink:href=\"#DejaVuSans-48\"/>\n       <use x=\"159.033203\" xlink:href=\"#DejaVuSans-48\"/>\n      </g>\n     </g>\n    </g>\n    <g id=\"xtick_4\">\n     <g id=\"line2d_4\">\n      <g>\n       <use style=\"stroke:#000000;stroke-width:0.8;\" x=\"264.738352\" xlink:href=\"#m9aa33ecf87\" y=\"224.64\"/>\n      </g>\n     </g>\n     <g id=\"text_4\">\n      <!-- 0.02 -->\n      <g transform=\"translate(253.60554 239.238437)scale(0.1 -0.1)\">\n       <use xlink:href=\"#DejaVuSans-48\"/>\n       <use x=\"63.623047\" xlink:href=\"#DejaVuSans-46\"/>\n       <use x=\"95.410156\" xlink:href=\"#DejaVuSans-48\"/>\n       <use x=\"159.033203\" xlink:href=\"#DejaVuSans-50\"/>\n      </g>\n     </g>\n    </g>\n    <g id=\"xtick_5\">\n     <g id=\"line2d_5\">\n      <g>\n       <use style=\"stroke:#000000;stroke-width:0.8;\" x=\"325.61108\" xlink:href=\"#m9aa33ecf87\" y=\"224.64\"/>\n      </g>\n     </g>\n     <g id=\"text_5\">\n      <!-- 0.04 -->\n      <g transform=\"translate(314.478267 239.238437)scale(0.1 -0.1)\">\n       <use xlink:href=\"#DejaVuSans-48\"/>\n       <use x=\"63.623047\" xlink:href=\"#DejaVuSans-46\"/>\n       <use x=\"95.410156\" xlink:href=\"#DejaVuSans-48\"/>\n       <use x=\"159.033203\" xlink:href=\"#DejaVuSans-52\"/>\n      </g>\n     </g>\n    </g>\n   </g>\n   <g id=\"matplotlib.axis_2\">\n    <g id=\"ytick_1\">\n     <g id=\"line2d_6\">\n      <defs>\n       <path d=\"M 0 0 \nL -3.5 0 \n\" id=\"mab0364a3e8\" style=\"stroke:#000000;stroke-width:0.8;\"/>\n      </defs>\n      <g>\n       <use style=\"stroke:#000000;stroke-width:0.8;\" x=\"36.465625\" xlink:href=\"#mab0364a3e8\" y=\"204.986867\"/>\n      </g>\n     </g>\n     <g id=\"text_6\">\n      <!-- 0.25 -->\n      <defs>\n       <path d=\"M 10.796875 72.90625 \nL 49.515625 72.90625 \nL 49.515625 64.59375 \nL 19.828125 64.59375 \nL 19.828125 46.734375 \nQ 21.96875 47.46875 24.109375 47.828125 \nQ 26.265625 48.1875 28.421875 48.1875 \nQ 40.625 48.1875 47.75 41.5 \nQ 54.890625 34.8125 54.890625 23.390625 \nQ 54.890625 11.625 47.5625 5.09375 \nQ 40.234375 -1.421875 26.90625 -1.421875 \nQ 22.3125 -1.421875 17.546875 -0.640625 \nQ 12.796875 0.140625 7.71875 1.703125 \nL 7.71875 11.625 \nQ 12.109375 9.234375 16.796875 8.0625 \nQ 21.484375 6.890625 26.703125 6.890625 \nQ 35.15625 6.890625 40.078125 11.328125 \nQ 45.015625 15.765625 45.015625 23.390625 \nQ 45.015625 31 40.078125 35.4375 \nQ 35.15625 39.890625 26.703125 39.890625 \nQ 22.75 39.890625 18.8125 39.015625 \nQ 14.890625 38.140625 10.796875 36.28125 \nz\n\" id=\"DejaVuSans-53\"/>\n      </defs>\n      <g transform=\"translate(7.2 208.786086)scale(0.1 -0.1)\">\n       <use xlink:href=\"#DejaVuSans-48\"/>\n       <use x=\"63.623047\" xlink:href=\"#DejaVuSans-46\"/>\n       <use x=\"95.410156\" xlink:href=\"#DejaVuSans-50\"/>\n       <use x=\"159.033203\" xlink:href=\"#DejaVuSans-53\"/>\n      </g>\n     </g>\n    </g>\n    <g id=\"ytick_2\">\n     <g id=\"line2d_7\">\n      <g>\n       <use style=\"stroke:#000000;stroke-width:0.8;\" x=\"36.465625\" xlink:href=\"#mab0364a3e8\" y=\"178.934876\"/>\n      </g>\n     </g>\n     <g id=\"text_7\">\n      <!-- 0.50 -->\n      <g transform=\"translate(7.2 182.734095)scale(0.1 -0.1)\">\n       <use xlink:href=\"#DejaVuSans-48\"/>\n       <use x=\"63.623047\" xlink:href=\"#DejaVuSans-46\"/>\n       <use x=\"95.410156\" xlink:href=\"#DejaVuSans-53\"/>\n       <use x=\"159.033203\" xlink:href=\"#DejaVuSans-48\"/>\n      </g>\n     </g>\n    </g>\n    <g id=\"ytick_3\">\n     <g id=\"line2d_8\">\n      <g>\n       <use style=\"stroke:#000000;stroke-width:0.8;\" x=\"36.465625\" xlink:href=\"#mab0364a3e8\" y=\"152.882885\"/>\n      </g>\n     </g>\n     <g id=\"text_8\">\n      <!-- 0.75 -->\n      <defs>\n       <path d=\"M 8.203125 72.90625 \nL 55.078125 72.90625 \nL 55.078125 68.703125 \nL 28.609375 0 \nL 18.3125 0 \nL 43.21875 64.59375 \nL 8.203125 64.59375 \nz\n\" id=\"DejaVuSans-55\"/>\n      </defs>\n      <g transform=\"translate(7.2 156.682104)scale(0.1 -0.1)\">\n       <use xlink:href=\"#DejaVuSans-48\"/>\n       <use x=\"63.623047\" xlink:href=\"#DejaVuSans-46\"/>\n       <use x=\"95.410156\" xlink:href=\"#DejaVuSans-55\"/>\n       <use x=\"159.033203\" xlink:href=\"#DejaVuSans-53\"/>\n      </g>\n     </g>\n    </g>\n    <g id=\"ytick_4\">\n     <g id=\"line2d_9\">\n      <g>\n       <use style=\"stroke:#000000;stroke-width:0.8;\" x=\"36.465625\" xlink:href=\"#mab0364a3e8\" y=\"126.830894\"/>\n      </g>\n     </g>\n     <g id=\"text_9\">\n      <!-- 1.00 -->\n      <defs>\n       <path d=\"M 12.40625 8.296875 \nL 28.515625 8.296875 \nL 28.515625 63.921875 \nL 10.984375 60.40625 \nL 10.984375 69.390625 \nL 28.421875 72.90625 \nL 38.28125 72.90625 \nL 38.28125 8.296875 \nL 54.390625 8.296875 \nL 54.390625 0 \nL 12.40625 0 \nz\n\" id=\"DejaVuSans-49\"/>\n      </defs>\n      <g transform=\"translate(7.2 130.630112)scale(0.1 -0.1)\">\n       <use xlink:href=\"#DejaVuSans-49\"/>\n       <use x=\"63.623047\" xlink:href=\"#DejaVuSans-46\"/>\n       <use x=\"95.410156\" xlink:href=\"#DejaVuSans-48\"/>\n       <use x=\"159.033203\" xlink:href=\"#DejaVuSans-48\"/>\n      </g>\n     </g>\n    </g>\n    <g id=\"ytick_5\">\n     <g id=\"line2d_10\">\n      <g>\n       <use style=\"stroke:#000000;stroke-width:0.8;\" x=\"36.465625\" xlink:href=\"#mab0364a3e8\" y=\"100.778903\"/>\n      </g>\n     </g>\n     <g id=\"text_10\">\n      <!-- 1.25 -->\n      <g transform=\"translate(7.2 104.578121)scale(0.1 -0.1)\">\n       <use xlink:href=\"#DejaVuSans-49\"/>\n       <use x=\"63.623047\" xlink:href=\"#DejaVuSans-46\"/>\n       <use x=\"95.410156\" xlink:href=\"#DejaVuSans-50\"/>\n       <use x=\"159.033203\" xlink:href=\"#DejaVuSans-53\"/>\n      </g>\n     </g>\n    </g>\n    <g id=\"ytick_6\">\n     <g id=\"line2d_11\">\n      <g>\n       <use style=\"stroke:#000000;stroke-width:0.8;\" x=\"36.465625\" xlink:href=\"#mab0364a3e8\" y=\"74.726911\"/>\n      </g>\n     </g>\n     <g id=\"text_11\">\n      <!-- 1.50 -->\n      <g transform=\"translate(7.2 78.52613)scale(0.1 -0.1)\">\n       <use xlink:href=\"#DejaVuSans-49\"/>\n       <use x=\"63.623047\" xlink:href=\"#DejaVuSans-46\"/>\n       <use x=\"95.410156\" xlink:href=\"#DejaVuSans-53\"/>\n       <use x=\"159.033203\" xlink:href=\"#DejaVuSans-48\"/>\n      </g>\n     </g>\n    </g>\n    <g id=\"ytick_7\">\n     <g id=\"line2d_12\">\n      <g>\n       <use style=\"stroke:#000000;stroke-width:0.8;\" x=\"36.465625\" xlink:href=\"#mab0364a3e8\" y=\"48.67492\"/>\n      </g>\n     </g>\n     <g id=\"text_12\">\n      <!-- 1.75 -->\n      <g transform=\"translate(7.2 52.474139)scale(0.1 -0.1)\">\n       <use xlink:href=\"#DejaVuSans-49\"/>\n       <use x=\"63.623047\" xlink:href=\"#DejaVuSans-46\"/>\n       <use x=\"95.410156\" xlink:href=\"#DejaVuSans-55\"/>\n       <use x=\"159.033203\" xlink:href=\"#DejaVuSans-53\"/>\n      </g>\n     </g>\n    </g>\n    <g id=\"ytick_8\">\n     <g id=\"line2d_13\">\n      <g>\n       <use style=\"stroke:#000000;stroke-width:0.8;\" x=\"36.465625\" xlink:href=\"#mab0364a3e8\" y=\"22.622929\"/>\n      </g>\n     </g>\n     <g id=\"text_13\">\n      <!-- 2.00 -->\n      <g transform=\"translate(7.2 26.422148)scale(0.1 -0.1)\">\n       <use xlink:href=\"#DejaVuSans-50\"/>\n       <use x=\"63.623047\" xlink:href=\"#DejaVuSans-46\"/>\n       <use x=\"95.410156\" xlink:href=\"#DejaVuSans-48\"/>\n       <use x=\"159.033203\" xlink:href=\"#DejaVuSans-48\"/>\n      </g>\n     </g>\n    </g>\n   </g>\n   <g id=\"line2d_14\">\n    <path clip-path=\"url(#pc51052167b)\" d=\"M 203.865625 17.083636 \n\" style=\"fill:none;stroke:#1f77b4;stroke-linecap:square;stroke-width:1.5;\"/>\n   </g>\n   <g id=\"line2d_15\">\n    <path clip-path=\"url(#pc51052167b)\" d=\"M 203.865625 214.756364 \n\" style=\"fill:none;stroke:#ff7f0e;stroke-linecap:square;stroke-width:1.5;\"/>\n   </g>\n   <g id=\"patch_3\">\n    <path d=\"M 36.465625 224.64 \nL 36.465625 7.2 \n\" style=\"fill:none;stroke:#000000;stroke-linecap:square;stroke-linejoin:miter;stroke-width:0.8;\"/>\n   </g>\n   <g id=\"patch_4\">\n    <path d=\"M 371.265625 224.64 \nL 371.265625 7.2 \n\" style=\"fill:none;stroke:#000000;stroke-linecap:square;stroke-linejoin:miter;stroke-width:0.8;\"/>\n   </g>\n   <g id=\"patch_5\">\n    <path d=\"M 36.465625 224.64 \nL 371.265625 224.64 \n\" style=\"fill:none;stroke:#000000;stroke-linecap:square;stroke-linejoin:miter;stroke-width:0.8;\"/>\n   </g>\n   <g id=\"patch_6\">\n    <path d=\"M 36.465625 7.2 \nL 371.265625 7.2 \n\" style=\"fill:none;stroke:#000000;stroke-linecap:square;stroke-linejoin:miter;stroke-width:0.8;\"/>\n   </g>\n  </g>\n </g>\n <defs>\n  <clipPath id=\"pc51052167b\">\n   <rect height=\"217.44\" width=\"334.8\" x=\"36.465625\" y=\"7.2\"/>\n  </clipPath>\n </defs>\n</svg>\n",
            "image/png": "[encoded data removed]"
          },
          "metadata": {
            "needs_background": "light"
          }
        }
      ]
    },
    {
      "cell_type": "code",
      "metadata": {
        "id": "FBtGOBl5NhKh",
        "colab_type": "code",
        "colab": {}
      },
      "source": [
        "# train(MobileNet())"
      ],
      "execution_count": null,
      "outputs": []
    },
    {
      "cell_type": "code",
      "metadata": {
        "id": "zpHLLEANNlM5",
        "colab_type": "code",
        "colab": {}
      },
      "source": [
        "# train(MobileNetV2())"
      ],
      "execution_count": null,
      "outputs": []
    },
    {
      "cell_type": "code",
      "metadata": {
        "id": "3_gtgSC9miGH",
        "colab_type": "code",
        "colab": {}
      },
      "source": [
        "# train(VGG16())"
      ],
      "execution_count": null,
      "outputs": []
    },
    {
      "cell_type": "code",
      "metadata": {
        "id": "gQPIDIgca4RZ",
        "colab_type": "code",
        "colab": {}
      },
      "source": [
        ""
      ],
      "execution_count": null,
      "outputs": []
    }
  ],
  "metadata": {
    "language_info": {
      "codemirror_mode": {
        "name": "ipython",
        "version": 3
      },
      "file_extension": ".py",
      "mimetype": "text/x-python",
      "name": "python",
      "nbconvert_exporter": "python",
      "pygments_lexer": "ipython3",
      "version": "3.8.2-final"
    },
    "orig_nbformat": 2,
    "kernelspec": {
      "name": "python37564bit6c0c4de1db534a08968024907c735ed7",
      "display_name": "Python 3.7.5 64-bit"
    },
    "colab": {
      "name": "training.ipynb",
      "provenance": [],
      "collapsed_sections": [],
      "toc_visible": true
    },
    "accelerator": "GPU"
  },
  "nbformat": 4,
  "nbformat_minor": 0
}
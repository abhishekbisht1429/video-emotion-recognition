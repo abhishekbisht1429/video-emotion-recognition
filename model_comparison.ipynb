{
 "cells": [
  {
   "cell_type": "code",
   "execution_count": 3,
   "metadata": {},
   "outputs": [],
   "source": [
    "import numpy as np\n",
    "import os\n",
    "import matplotlib.pyplot as plt"
   ]
  },
  {
   "cell_type": "code",
   "execution_count": 4,
   "metadata": {},
   "outputs": [
    {
     "output_type": "stream",
     "name": "stdout",
     "text": "resnet101_8_8_8_history.npy\nvgg16_8_8_8_history.npy\nxception_8_8_8_history.npy\nresnet50_8_8_8_history.npy\nvgg16_4_4_8_history.npy\n"
    }
   ],
   "source": [
    "path = './temp/history'\n",
    "model_histories = {}\n",
    "for model_history in os.listdir(path):\n",
    "    model_history_path = path + '/' + model_history\n",
    "    if(os.path.isfile(model_history_path)):\n",
    "        model_histories[model_history.split('.')[0]] = np.load(model_history_path, allow_pickle = True)\n",
    "        print(model_history)"
   ]
  },
  {
   "cell_type": "code",
   "execution_count": null,
   "metadata": {},
   "outputs": [],
   "source": []
  }
 ],
 "metadata": {
  "language_info": {
   "codemirror_mode": {
    "name": "ipython",
    "version": 3
   },
   "file_extension": ".py",
   "mimetype": "text/x-python",
   "name": "python",
   "nbconvert_exporter": "python",
   "pygments_lexer": "ipython3",
   "version": "3.8.2-final"
  },
  "orig_nbformat": 2,
  "kernelspec": {
   "name": "python37564bit6c0c4de1db534a08968024907c735ed7",
   "display_name": "Python 3.7.5 64-bit"
  }
 },
 "nbformat": 4,
 "nbformat_minor": 2
}